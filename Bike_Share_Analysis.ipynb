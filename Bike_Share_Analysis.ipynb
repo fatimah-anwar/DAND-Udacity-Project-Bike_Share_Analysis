{
 "cells": [
  {
   "cell_type": "markdown",
   "metadata": {},
   "source": [
    "# 2016 US Bike Share Activity Snapshot\n",
    "\n",
    "## Table of Contents\n",
    "- [Introduction](#intro)\n",
    "- [Posing Questions](#pose_questions)\n",
    "- [Data Collection and Wrangling](#wrangling)\n",
    "  - [Condensing the Trip Data](#condensing)\n",
    "- [Exploratory Data Analysis](#eda)\n",
    "  - [Statistics](#statistics)\n",
    "  - [Visualizations](#visualizations)\n",
    "- [Performing Your Own Analysis](#eda_continued)\n",
    "- [Conclusions](#conclusions)\n",
    "\n",
    "<a id='intro'></a>\n",
    "## Introduction\n",
    "\n",
    "> **Tip**: Quoted sections like this will provide helpful instructions on how to navigate and use a Jupyter notebook.\n",
    "\n",
    "Over the past decade, bicycle-sharing systems have been growing in number and popularity in cities across the world. Bicycle-sharing systems allow users to rent bicycles for short trips, typically 30 minutes or less. Thanks to the rise in information technologies, it is easy for a user of the system to access a dock within the system to unlock or return bicycles. These technologies also provide a wealth of data that can be used to explore how these bike-sharing systems are used.\n",
    "\n",
    "In this project, you will perform an exploratory analysis on data provided by [Motivate](https://www.motivateco.com/), a bike-share system provider for many major cities in the United States. You will compare the system usage between three large cities: New York City, Chicago, and Washington, DC. You will also see if there are any differences within each system for those users that are registered, regular users and those users that are short-term, casual users."
   ]
  },
  {
   "cell_type": "markdown",
   "metadata": {},
   "source": [
    "<a id='pose_questions'></a>\n",
    "## Posing Questions\n",
    "\n",
    "Before looking at the bike sharing data, you should start by asking questions you might want to understand about the bike share data. Consider, for example, if you were working for Motivate. What kinds of information would you want to know about in order to make smarter business decisions? If you were a user of the bike-share service, what factors might influence how you would want to use the service?\n",
    "\n",
    "**Question 1**: Write at least two questions related to bike sharing that you think could be answered by data.\n",
    "\n",
    "**Answer**: \n",
    "1. How long does it take the bike-riders to reach their destinations ?\n",
    "2. When do people rent more Bicycles ? on the weekends or the weekdays ?   \n",
    "\n",
    "> **Tip**: If you double click on this cell, you will see the text change so that all of the formatting is removed. This allows you to edit this block of text. This block of text is written using [Markdown](http://daringfireball.net/projects/markdown/syntax), which is a way to format text using headers, links, italics, and many other options using a plain-text syntax. You will also use Markdown later in the Nanodegree program. Use **Shift** + **Enter** or **Shift** + **Return** to run the cell and show its rendered form."
   ]
  },
  {
   "cell_type": "markdown",
   "metadata": {},
   "source": [
    "<a id='wrangling'></a>\n",
    "## Data Collection and Wrangling\n",
    "\n",
    "Now it's time to collect and explore our data. In this project, we will focus on the record of individual trips taken in 2016 from our selected cities: New York City, Chicago, and Washington, DC. Each of these cities has a page where we can freely download the trip data.:\n",
    "\n",
    "- New York City (Citi Bike): [Link](https://www.citibikenyc.com/system-data)\n",
    "- Chicago (Divvy): [Link](https://www.divvybikes.com/system-data)\n",
    "- Washington, DC (Capital Bikeshare): [Link](https://www.capitalbikeshare.com/system-data)\n",
    "\n",
    "If you visit these pages, you will notice that each city has a different way of delivering its data. Chicago updates with new data twice a year, Washington DC is quarterly, and New York City is monthly. **However, you do not need to download the data yourself.** The data has already been collected for you in the `/data/` folder of the project files. While the original data for 2016 is spread among multiple files for each city, the files in the `/data/` folder collect all of the trip data for the year into one file per city. Some data wrangling of inconsistencies in timestamp format within each city has already been performed for you. In addition, a random 2% sample of the original data is taken to make the exploration more manageable. \n",
    "\n",
    "**Question 2**: However, there is still a lot of data for us to investigate, so it's a good idea to start off by looking at one entry from each of the cities we're going to analyze. Run the first code cell below to load some packages and functions that you'll be using in your analysis. Then, complete the second code cell to print out the first trip recorded from each of the cities (the second line of each data file).\n",
    "\n",
    "> **Tip**: You can run a code cell like you formatted Markdown cells above by clicking on the cell and using the keyboard shortcut **Shift** + **Enter** or **Shift** + **Return**. Alternatively, a code cell can be executed using the **Play** button in the toolbar after selecting it. While the cell is running, you will see an asterisk in the message to the left of the cell, i.e. `In [*]:`. The asterisk will change into a number to show that execution has completed, e.g. `In [1]`. If there is output, it will show up as `Out [1]:`, with an appropriate number to match the \"In\" number."
   ]
  },
  {
   "cell_type": "code",
   "execution_count": 1,
   "metadata": {},
   "outputs": [],
   "source": [
    "## import all necessary packages and functions.\n",
    "import csv # read and write csv files\n",
    "from datetime import datetime # operations to parse dates\n",
    "from pprint import pprint # use to print data structures like dictionaries in\n",
    "                          # a nicer way than the base print function."
   ]
  },
  {
   "cell_type": "code",
   "execution_count": 2,
   "metadata": {},
   "outputs": [
    {
     "name": "stdout",
     "output_type": "stream",
     "text": [
      "\n",
      "City: NYC\n",
      "OrderedDict([('tripduration', '839'),\n",
      "             ('starttime', '1/1/2016 00:09:55'),\n",
      "             ('stoptime', '1/1/2016 00:23:54'),\n",
      "             ('start station id', '532'),\n",
      "             ('start station name', 'S 5 Pl & S 4 St'),\n",
      "             ('start station latitude', '40.710451'),\n",
      "             ('start station longitude', '-73.960876'),\n",
      "             ('end station id', '401'),\n",
      "             ('end station name', 'Allen St & Rivington St'),\n",
      "             ('end station latitude', '40.72019576'),\n",
      "             ('end station longitude', '-73.98997825'),\n",
      "             ('bikeid', '17109'),\n",
      "             ('usertype', 'Customer'),\n",
      "             ('birth year', ''),\n",
      "             ('gender', '0')])\n",
      "\n",
      "City: Chicago\n",
      "OrderedDict([('trip_id', '9080545'),\n",
      "             ('starttime', '3/31/2016 23:30'),\n",
      "             ('stoptime', '3/31/2016 23:46'),\n",
      "             ('bikeid', '2295'),\n",
      "             ('tripduration', '926'),\n",
      "             ('from_station_id', '156'),\n",
      "             ('from_station_name', 'Clark St & Wellington Ave'),\n",
      "             ('to_station_id', '166'),\n",
      "             ('to_station_name', 'Ashland Ave & Wrightwood Ave'),\n",
      "             ('usertype', 'Subscriber'),\n",
      "             ('gender', 'Male'),\n",
      "             ('birthyear', '1990')])\n",
      "\n",
      "City: Washington\n",
      "OrderedDict([('Duration (ms)', '427387'),\n",
      "             ('Start date', '3/31/2016 22:57'),\n",
      "             ('End date', '3/31/2016 23:04'),\n",
      "             ('Start station number', '31602'),\n",
      "             ('Start station', 'Park Rd & Holmead Pl NW'),\n",
      "             ('End station number', '31207'),\n",
      "             ('End station', 'Georgia Ave and Fairmont St NW'),\n",
      "             ('Bike number', 'W20842'),\n",
      "             ('Member Type', 'Registered')])\n"
     ]
    }
   ],
   "source": [
    "def print_first_point(filename):\n",
    "    \"\"\"\n",
    "    This function prints and returns the first data point (second row) from\n",
    "    a csv file that includes a header row.\n",
    "    \"\"\"\n",
    "    # print city name for reference\n",
    "    city = filename.split('-')[0].split('/')[-1]\n",
    "    print('\\nCity: {}'.format(city))\n",
    "    \n",
    "    with open(filename, 'r') as f_in:\n",
    "        ## TODO: Use the csv library to set up a DictReader object. ##\n",
    "        ## see https://docs.python.org/3/library/csv.html           ##\n",
    "        trip_reader = csv.DictReader(f_in)\n",
    "        \n",
    "        ## TODO: Use a function on the DictReader object to read the     ##\n",
    "        ## first trip from the data file and store it in a variable.     ##\n",
    "        ## see https://docs.python.org/3/library/csv.html#reader-objects ##\n",
    "        first_trip = trip_reader.__next__()\n",
    "        \n",
    "        ## TODO: Use the pprint library to print the first trip. ##\n",
    "        ## see https://docs.python.org/3/library/pprint.html     ##\n",
    "        pprint(first_trip)\n",
    "        \n",
    "        \n",
    "        \n",
    "    # output city name and first trip for later testing\n",
    "    return (city, first_trip)\n",
    "\n",
    "# list of files for each city\n",
    "data_files = ['./data/NYC-CitiBike-2016.csv',\n",
    "              './data/Chicago-Divvy-2016.csv',\n",
    "              './data/Washington-CapitalBikeshare-2016.csv',]\n",
    "\n",
    "# print the first trip from each file, store in dictionary\n",
    "example_trips = {}\n",
    "for data_file in data_files:\n",
    "    city, first_trip = print_first_point(data_file)\n",
    "    example_trips[city] = first_trip"
   ]
  },
  {
   "cell_type": "markdown",
   "metadata": {},
   "source": [
    "If everything has been filled out correctly, you should see below the printout of each city name (which has been parsed from the data file name) that the first trip has been parsed in the form of a dictionary. When you set up a `DictReader` object, the first row of the data file is normally interpreted as column names. Every other row in the data file will use those column names as keys, as a dictionary is generated for each row.\n",
    "\n",
    "This will be useful since we can refer to quantities by an easily-understandable label instead of just a numeric index. For example, if we have a trip stored in the variable `row`, then we would rather get the trip duration from `row['duration']` instead of `row[0]`.\n",
    "\n",
    "<a id='condensing'></a>\n",
    "### Condensing the Trip Data\n",
    "\n",
    "It should also be observable from the above printout that each city provides different information. Even where the information is the same, the column names and formats are sometimes different. To make things as simple as possible when we get to the actual exploration, we should trim and clean the data. Cleaning the data makes sure that the data formats across the cities are consistent, while trimming focuses only on the parts of the data we are most interested in to make the exploration easier to work with.\n",
    "\n",
    "You will generate new data files with five values of interest for each trip: trip duration, starting month, starting hour, day of the week, and user type. Each of these may require additional wrangling depending on the city:\n",
    "\n",
    "- **Duration**: This has been given to us in seconds (New York, Chicago) or milliseconds (Washington). A more natural unit of analysis will be if all the trip durations are given in terms of minutes.\n",
    "- **Month**, **Hour**, **Day of Week**: Ridership volume is likely to change based on the season, time of day, and whether it is a weekday or weekend. Use the start time of the trip to obtain these values. The New York City data includes the seconds in their timestamps, while Washington and Chicago do not. The [`datetime`](https://docs.python.org/3/library/datetime.html) package will be very useful here to make the needed conversions.\n",
    "- **User Type**: It is possible that users who are subscribed to a bike-share system will have different patterns of use compared to users who only have temporary passes. Washington divides its users into two types: 'Registered' for users with annual, monthly, and other longer-term subscriptions, and 'Casual', for users with 24-hour, 3-day, and other short-term passes. The New York and Chicago data uses 'Subscriber' and 'Customer' for these groups, respectively. For consistency, you will convert the Washington labels to match the other two.\n",
    "\n",
    "\n",
    "**Question 3a**: Complete the helper functions in the code cells below to address each of the cleaning tasks described above."
   ]
  },
  {
   "cell_type": "code",
   "execution_count": 3,
   "metadata": {},
   "outputs": [],
   "source": [
    "def duration_in_mins(datum, city):\n",
    "    \"\"\"\n",
    "    Takes as input a dictionary containing info about a single trip (datum) and\n",
    "    its origin city (city) and returns the trip duration in units of minutes.\n",
    "    \n",
    "    Remember that Washington is in terms of milliseconds while Chicago and NYC\n",
    "    are in terms of seconds. \n",
    "    \n",
    "    HINT: The csv module reads in all of the data as strings, including numeric\n",
    "    values. You will need a function to convert the strings into an appropriate\n",
    "    numeric type when making your transformations.\n",
    "    see https://docs.python.org/3/library/functions.html\n",
    "    \"\"\"\n",
    "    \n",
    "    \n",
    "    # YOUR CODE HERE\n",
    "    if city == 'NYC' or city == 'Chicago':\n",
    "        duration = float(datum['tripduration']) / 60 \n",
    "    else:\n",
    "        duration = float(datum['Duration (ms)']) / 60000 \n",
    "    \n",
    "    return duration\n",
    "\n",
    "\n",
    "# Some tests to check that your code works. There should be no output if all of\n",
    "# the assertions pass. The `example_trips` dictionary was obtained from when\n",
    "# you printed the first trip from each of the original data files.\n",
    "tests = {'NYC': 13.9833,\n",
    "         'Chicago': 15.4333,\n",
    "         'Washington': 7.1231}\n",
    "\n",
    "for city in tests:\n",
    "    assert abs(duration_in_mins(example_trips[city], city) - tests[city]) < .001"
   ]
  },
  {
   "cell_type": "code",
   "execution_count": 4,
   "metadata": {},
   "outputs": [],
   "source": [
    "import calendar # allow to get the days of week names\n",
    "\n",
    "def time_of_trip(datum, city):\n",
    "    \"\"\"\n",
    "    Takes as input a dictionary containing info about a single trip (datum) and\n",
    "    its origin city (city) and returns the month, hour, and day of the week in\n",
    "    which the trip was made.\n",
    "    \n",
    "    Remember that NYC includes seconds, while Washington and Chicago do not.\n",
    "    \n",
    "    HINT: You should use the datetime module to parse the original date\n",
    "    strings into a format that is useful for extracting the desired information.\n",
    "    see https://docs.python.org/3/library/datetime.html#strftime-and-strptime-behavior\n",
    "    \"\"\"\n",
    "    \n",
    "    # YOUR CODE HERE\n",
    "    if city == 'NYC':\n",
    "        datetime_object = datetime.strptime(datum['starttime'], '%m/%d/%Y %H:%M:%S')\n",
    "        \n",
    "    elif city == 'Chicago':\n",
    "        datetime_object = datetime.strptime(datum['starttime'], '%m/%d/%Y %H:%M')\n",
    "\n",
    "    else:\n",
    "        datetime_object = datetime.strptime(datum['Start date'], '%m/%d/%Y %H:%M')\n",
    "        \n",
    "    month = datetime_object.month\n",
    "    hour = datetime_object.hour\n",
    "    day_of_week = calendar.day_name[datetime_object.weekday()]\n",
    "    \n",
    "    return (month, hour, day_of_week)\n",
    "\n",
    "\n",
    "# Some tests to check that your code works. There should be no output if all of\n",
    "# the assertions pass. The `example_trips` dictionary was obtained from when\n",
    "# you printed the first trip from each of the original data files.\n",
    "tests = {'NYC': (1, 0, 'Friday'),\n",
    "         'Chicago': (3, 23, 'Thursday'),\n",
    "         'Washington': (3, 22, 'Thursday')}\n",
    "\n",
    "for city in tests:\n",
    "    assert time_of_trip(example_trips[city], city) == tests[city]"
   ]
  },
  {
   "cell_type": "code",
   "execution_count": 5,
   "metadata": {},
   "outputs": [],
   "source": [
    "def type_of_user(datum, city):\n",
    "    \"\"\"\n",
    "    Takes as input a dictionary containing info about a single trip (datum) and\n",
    "    its origin city (city) and returns the type of system user that made the\n",
    "    trip.\n",
    "    \n",
    "    Remember that Washington has different category names compared to Chicago\n",
    "    and NYC. \n",
    "    \"\"\"\n",
    "    \n",
    "    # YOUR CODE HERE\n",
    "    if city == 'NYC' or city == 'Chicago':\n",
    "        user_type = datum['usertype']\n",
    "    else:\n",
    "        if datum['Member Type'] == 'Registered':\n",
    "            user_type = 'Subscriber'\n",
    "        else:\n",
    "            user_type = 'Customer'\n",
    "    \n",
    "    return user_type\n",
    "\n",
    "\n",
    "# Some tests to check that your code works. There should be no output if all of\n",
    "# the assertions pass. The `example_trips` dictionary was obtained from when\n",
    "# you printed the first trip from each of the original data files.\n",
    "tests = {'NYC': 'Customer',\n",
    "         'Chicago': 'Subscriber',\n",
    "         'Washington': 'Subscriber'}\n",
    "\n",
    "for city in tests:\n",
    "    assert type_of_user(example_trips[city], city) == tests[city]"
   ]
  },
  {
   "cell_type": "markdown",
   "metadata": {},
   "source": [
    "**Question 3b**: Now, use the helper functions you wrote above to create a condensed data file for each city consisting only of the data fields indicated above. In the `/examples/` folder, you will see an example datafile from the [Bay Area Bike Share](http://www.bayareabikeshare.com/open-data) before and after conversion. Make sure that your output is formatted to be consistent with the example file."
   ]
  },
  {
   "cell_type": "code",
   "execution_count": 6,
   "metadata": {},
   "outputs": [],
   "source": [
    "def condense_data(in_file, out_file, city):\n",
    "    \"\"\"\n",
    "    This function takes full data from the specified input file\n",
    "    and writes the condensed data to a specified output file. The city\n",
    "    argument determines how the input file will be parsed.\n",
    "    \n",
    "    HINT: See the cell below to see how the arguments are structured!\n",
    "    \"\"\"\n",
    "    \n",
    "    with open(out_file, 'w') as f_out, open(in_file, 'r') as f_in:\n",
    "        # set up csv DictWriter object - writer requires column names for the\n",
    "        # first row as the \"fieldnames\" argument\n",
    "        out_colnames = ['duration', 'month', 'hour', 'day_of_week', 'user_type']        \n",
    "        trip_writer = csv.DictWriter(f_out, fieldnames = out_colnames)\n",
    "        trip_writer.writeheader()\n",
    "        \n",
    "        ## TODO: set up csv DictReader object ##\n",
    "        trip_reader = csv.DictReader(f_in)\n",
    "\n",
    "        # collect data from and process each row\n",
    "        for row in trip_reader:\n",
    "            # set up a dictionary to hold the values for the cleaned and trimmed\n",
    "            # data point\n",
    "            new_point = {}\n",
    "            \n",
    "            ## TODO: use the helper functions to get the cleaned data from  ##\n",
    "            ## the original data dictionaries.                              ##\n",
    "            ## Note that the keys for the new_point dictionary should match ##\n",
    "            ## the column names set in the DictWriter object above.         ##            \n",
    "            duration = duration_in_mins(row, city)\n",
    "            new_point['duration'] = duration\n",
    "            \n",
    "            month, hour, day_of_week = time_of_trip(row, city)\n",
    "            new_point['month'] = month \n",
    "            new_point['hour'] = hour\n",
    "            new_point['day_of_week'] = day_of_week\n",
    "            \n",
    "            user_type = type_of_user(row, city)\n",
    "            new_point['user_type'] = user_type\n",
    "\n",
    "            ## TODO: write the processed information to the output file.     ##\n",
    "            ## see https://docs.python.org/3/library/csv.html#writer-objects ##\n",
    "            trip_writer.writerow(new_point)\n",
    "            \n",
    "            "
   ]
  },
  {
   "cell_type": "code",
   "execution_count": 7,
   "metadata": {},
   "outputs": [
    {
     "name": "stdout",
     "output_type": "stream",
     "text": [
      "\n",
      "City: Washington\n",
      "OrderedDict([('duration', '7.123116666666666'),\n",
      "             ('month', '3'),\n",
      "             ('hour', '22'),\n",
      "             ('day_of_week', 'Thursday'),\n",
      "             ('user_type', 'Subscriber')])\n",
      "\n",
      "City: Chicago\n",
      "OrderedDict([('duration', '15.433333333333334'),\n",
      "             ('month', '3'),\n",
      "             ('hour', '23'),\n",
      "             ('day_of_week', 'Thursday'),\n",
      "             ('user_type', 'Subscriber')])\n",
      "\n",
      "City: NYC\n",
      "OrderedDict([('duration', '13.983333333333333'),\n",
      "             ('month', '1'),\n",
      "             ('hour', '0'),\n",
      "             ('day_of_week', 'Friday'),\n",
      "             ('user_type', 'Customer')])\n"
     ]
    }
   ],
   "source": [
    "# Run this cell to check your work\n",
    "city_info = {'Washington': {'in_file': './data/Washington-CapitalBikeshare-2016.csv',\n",
    "                            'out_file': './data/Washington-2016-Summary.csv'},\n",
    "             'Chicago': {'in_file': './data/Chicago-Divvy-2016.csv',\n",
    "                         'out_file': './data/Chicago-2016-Summary.csv'},\n",
    "             'NYC': {'in_file': './data/NYC-CitiBike-2016.csv',\n",
    "                     'out_file': './data/NYC-2016-Summary.csv'}}\n",
    "\n",
    "for city, filenames in city_info.items():\n",
    "    condense_data(filenames['in_file'], filenames['out_file'], city)\n",
    "    print_first_point(filenames['out_file'])"
   ]
  },
  {
   "cell_type": "markdown",
   "metadata": {},
   "source": [
    "> **Tip**: If you save a jupyter Notebook, the output from running code blocks will also be saved. However, the state of your workspace will be reset once a new session is started. Make sure that you run all of the necessary code blocks from your previous session to reestablish variables and functions before picking up where you last left off.\n",
    "\n",
    "<a id='eda'></a>\n",
    "## Exploratory Data Analysis\n",
    "\n",
    "Now that you have the data collected and wrangled, you're ready to start exploring the data. In this section you will write some code to compute descriptive statistics from the data. You will also be introduced to the `matplotlib` library to create some basic histograms of the data.\n",
    "\n",
    "<a id='statistics'></a>\n",
    "### Statistics\n",
    "\n",
    "First, let's compute some basic counts. The first cell below contains a function that uses the csv module to iterate through a provided data file, returning the number of trips made by subscribers and customers. The second cell runs this function on the example Bay Area data in the `/examples/` folder. Modify the cells to answer the question below.\n",
    "\n",
    "**Question 4a**: Which city has the highest number of trips? Which city has the highest proportion of trips made by subscribers? Which city has the highest proportion of trips made by short-term customers?\n",
    "\n",
    "**Answer**: \n",
    "1. The city thet has the highest number of trips is: New York City\n",
    "2. The city that has the highest proportion of trips made by subscribers is: New York City\n",
    "3. The city that has the highest proportion of trips made by short-term customers is: Chicago"
   ]
  },
  {
   "cell_type": "code",
   "execution_count": 8,
   "metadata": {},
   "outputs": [],
   "source": [
    "def number_of_trips(filename):\n",
    "    \"\"\"\n",
    "    This function reads in a file with trip data and reports the number of\n",
    "    trips made by subscribers, customers, and total overall.\n",
    "    \"\"\"\n",
    "    with open(filename, 'r') as f_in:\n",
    "        # set up csv reader object\n",
    "        reader = csv.DictReader(f_in)\n",
    "        \n",
    "        # initialize count variables\n",
    "        n_subscribers = 0\n",
    "        n_customers = 0\n",
    "        \n",
    "        # tally up ride types\n",
    "        for row in reader:\n",
    "            if row['user_type'] == 'Subscriber':\n",
    "                n_subscribers += 1\n",
    "            else:\n",
    "                n_customers += 1\n",
    "        \n",
    "        # compute total number of rides\n",
    "        n_total = n_subscribers + n_customers\n",
    "        \n",
    "        # return tallies as a tuple\n",
    "        return(n_subscribers, n_customers, n_total)"
   ]
  },
  {
   "cell_type": "code",
   "execution_count": 9,
   "metadata": {},
   "outputs": [],
   "source": [
    "def find_max(city, trips , max_trips , max_city):\n",
    "    \"\"\"\n",
    "    This function finds the city with the maximum number or highest proportion of trips \n",
    "    and returns the name of that city alnog with the calculated maximum trips value\n",
    "    \"\"\"\n",
    "    if trips > max_trips:\n",
    "        max_trips = trips\n",
    "        max_city = city\n",
    "        \n",
    "    return max_trips , max_city"
   ]
  },
  {
   "cell_type": "code",
   "execution_count": 10,
   "metadata": {},
   "outputs": [],
   "source": [
    "def calculate_proportion(trips , total_trips):\n",
    "    \"\"\"\n",
    "    This function calculates the proportion of the givien trips type based on the \n",
    "    total number of trips\n",
    "    \"\"\"    \n",
    "    return (trips/total_trips) * 100"
   ]
  },
  {
   "cell_type": "code",
   "execution_count": 11,
   "metadata": {},
   "outputs": [
    {
     "name": "stdout",
     "output_type": "stream",
     "text": [
      "The city with the highest number of trips is NYC\n",
      "The city with the highest proportion of subscribers trips is NYC\n",
      "The city with the highest proportion of short-term customers trips is Chicago\n"
     ]
    }
   ],
   "source": [
    "## Modify this and the previous cell to answer Question 4a. Remember to run ##\n",
    "## the function on the cleaned data files you created from Question 3.      ##\n",
    "\n",
    "summary_files = {'./data/Washington-2016-Summary.csv',\n",
    "             './data/Chicago-2016-Summary.csv',\n",
    "             './data/NYC-2016-Summary.csv'}\n",
    "\n",
    "# initilaize the maximum vlaues \n",
    "max_total , max_subscribers , max_customers = 0 , 0 , 0\n",
    "\n",
    "# initilaize the cities with the maximum values \n",
    "max_total_city ,max_subscribers_city , max_customers_city = \"\" , \"\" , \"\" \n",
    "    \n",
    "for summary_file in summary_files:    \n",
    "    # store the city name in a variable\n",
    "    city = summary_file.split('-')[0].split('/')[-1]  \n",
    "    \n",
    "    ## call the helper function to get the number of trips ##\n",
    "    ## made by subscribers, customers, and total ##\n",
    "    subscribers , customers , total = number_of_trips(summary_file)\n",
    "\n",
    "    ## call the helper function to get the city with the highest ##\n",
    "    ## number of total trips ##\n",
    "    max_total , max_total_city = find_max(city, total , max_total , max_total_city)\n",
    "    \n",
    "    ## call the helper function to get the proportion of the ##\n",
    "    ## subscribers trips##\n",
    "    subscribers_prop = calculate_proportion(subscribers , total)\n",
    "    \n",
    "    ## call the helper function to get the city with the highest ##\n",
    "    ## proportion of subscribers trips ##\n",
    "    max_subscribers , max_subscribers_city = find_max(city , subscribers_prop , max_subscribers , \n",
    "                                                      max_subscribers_city)\n",
    "    \n",
    "    ## call the helper function to get the proportion of the ##\n",
    "    ## customers trips##\n",
    "    customers_prop = calculate_proportion(customers , total)\n",
    "    \n",
    "    ## call the helper function to get the city with the highest ##\n",
    "    ## proportion of short-term customers trips ##\n",
    "    max_customers , max_customers_city = find_max(city , customers_prop , max_customers , max_customers_city)\n",
    "    \n",
    "print(\"The city with the highest number of trips is \" + max_total_city)\n",
    "print(\"The city with the highest proportion of subscribers trips is \" + max_subscribers_city)\n",
    "print(\"The city with the highest proportion of short-term customers trips is \" + max_customers_city)"
   ]
  },
  {
   "cell_type": "markdown",
   "metadata": {},
   "source": [
    "> **Tip**: In order to add additional cells to a notebook, you can use the \"Insert Cell Above\" and \"Insert Cell Below\" options from the menu bar above. There is also an icon in the toolbar for adding new cells, with additional icons for moving the cells up and down the document. By default, new cells are of the code type; you can also specify the cell type (e.g. Code or Markdown) of selected cells from the Cell menu or the dropdown in the toolbar.\n",
    "\n",
    "Now, you will write your own code to continue investigating properties of the data.\n",
    "\n",
    "**Question 4b**: Bike-share systems are designed for riders to take short trips. Most of the time, users are allowed to take trips of 30 minutes or less with no additional charges, with overage charges made for trips of longer than that duration. What is the average trip length for each city? What proportion of rides made in each city are longer than 30 minutes?\n",
    "\n",
    "**Answer**:\n",
    "City: New York   \n",
    "Average Trip Length: 15.0 min | Proportion of Rides Longer than 30 min: 7.3%\n",
    "_______________________________________________\n",
    "City: Chicago\t\n",
    "Average Trip Length: 16.0 min | Proportion of Rides Longer than 30 min: 8.3%\n",
    "_______________________________________________\n",
    "City: Washington\t\n",
    "Average Trip Length: 18.0 min | Proportion of Rides Longer than 30 min: 10.8%"
   ]
  },
  {
   "cell_type": "code",
   "execution_count": 12,
   "metadata": {},
   "outputs": [],
   "source": [
    "def avg_trip_len(filename):\n",
    "    \"\"\"\n",
    "    This function reads in a file with trip data and calculate the \n",
    "    average trip length for the given city.\n",
    "    \"\"\"\n",
    "    with open(filename, 'r') as f_in:\n",
    "        # set up csv reader object\n",
    "        reader = csv.DictReader(f_in)\n",
    "        \n",
    "        # initialize sum and count variables\n",
    "        trips_duration_sum = 0.0\n",
    "        rows_count = 0\n",
    "        \n",
    "        for row in reader:\n",
    "            # calculate the sum of trips durations \n",
    "            trips_duration_sum += float(row['duration'])\n",
    "            \n",
    "            # count the number of rows in the data file\n",
    "            rows_count += 1\n",
    "        \n",
    "        # compute the average trip length\n",
    "        trips_avg = trips_duration_sum // rows_count\n",
    "        \n",
    "        return trips_avg"
   ]
  },
  {
   "cell_type": "code",
   "execution_count": 13,
   "metadata": {},
   "outputs": [],
   "source": [
    "def long_trips_proportion(filename):\n",
    "    \"\"\"\n",
    "    This function reads in a file with trip data and finds the proportion of rides made \n",
    "    that are longer than 30 minutes for the given city.\n",
    "    \"\"\"\n",
    "    with open(filename, 'r') as f_in:\n",
    "        # set up csv reader object\n",
    "        reader = csv.DictReader(f_in)\n",
    "        \n",
    "        # initialize count variables\n",
    "        long_trips = 0\n",
    "        total_trips = 0\n",
    "        \n",
    "        # count both long and total trips\n",
    "        for row in reader:\n",
    "            total_trips += 1\n",
    "            \n",
    "            if float(row['duration']) > 30:\n",
    "                long_trips += 1\n",
    "        \n",
    "        # call the helper function to get the proportion of the long trips \n",
    "        trips_prop = calculate_proportion(long_trips , total_trips) \n",
    "        \n",
    "        return trips_prop"
   ]
  },
  {
   "cell_type": "code",
   "execution_count": 14,
   "metadata": {
    "scrolled": true
   },
   "outputs": [
    {
     "name": "stdout",
     "output_type": "stream",
     "text": [
      "City: NYC\tAverage Trip Length: 15.0\tProportion of Rides Longer than 30 min: 7.3\n",
      "City: Washington\tAverage Trip Length: 18.0\tProportion of Rides Longer than 30 min: 10.8\n",
      "City: Chicago\tAverage Trip Length: 16.0\tProportion of Rides Longer than 30 min: 8.3\n"
     ]
    }
   ],
   "source": [
    "## Use this and additional cells to answer Question 4b.                 ##\n",
    "##                                                                      ##\n",
    "## HINT: The csv module reads in all of the data as strings, including  ##\n",
    "## numeric values. You will need a function to convert the strings      ##\n",
    "## into an appropriate numeric type before you aggregate data.          ##\n",
    "## TIP: For the Bay Area example, the average trip length is 14 minutes ##\n",
    "## and 3.5% of trips are longer than 30 minutes.                        ##\n",
    "\n",
    "for summary_file in summary_files:\n",
    "    # store the city name in a variable\n",
    "    city = summary_file.split('-')[0].split('/')[-1] \n",
    "  \n",
    "    # call the helper function to get the average trip length \n",
    "    trips_avg = avg_trip_len(summary_file)\n",
    "    \n",
    "    # call the helper function to get the proportion of the long trips \n",
    "    trips_prop = \"%.1f\" % long_trips_proportion(summary_file)\n",
    "    \n",
    "    print(\"City: {}\\tAverage Trip Length: {}\\tProportion of Rides Longer than 30 min: {}\"\n",
    "          .format(city , trips_avg , trips_prop))"
   ]
  },
  {
   "cell_type": "markdown",
   "metadata": {},
   "source": [
    "**Question 4c**: Dig deeper into the question of trip duration based on ridership. Choose one city. Within that city, which type of user takes longer rides on average: Subscribers or Customers?\n",
    "\n",
    "**Answer**: for New York City, Customers takes longer rides on average"
   ]
  },
  {
   "cell_type": "code",
   "execution_count": 15,
   "metadata": {},
   "outputs": [],
   "source": [
    "def avg_user_type(filename):\n",
    "    \"\"\"\n",
    "    This function reads in a file with trip data and finds which type of user takes \n",
    "    longer rides on average.\n",
    "    \"\"\"\n",
    "    with open(filename, 'r') as f_in:\n",
    "        # set up csv reader object\n",
    "        reader = csv.DictReader(f_in)\n",
    "        \n",
    "        # initialize sum and count variables\n",
    "        subscribers_duration_sum = 0.0\n",
    "        customers_duration_sum = 0.0\n",
    "        subscribers_count = 0\n",
    "        customers_count = 0\n",
    "        \n",
    "        for row in reader:\n",
    "            if row['user_type'] == 'Subscriber':\n",
    "                # calculate the sum of trips durations for subscribers\n",
    "                subscribers_duration_sum += float(row['duration'])\n",
    "                # count the number of subscriber users\n",
    "                subscribers_count += 1\n",
    "            else:\n",
    "                # calculate the sum of trips durations for customers\n",
    "                customers_duration_sum += float(row['duration'])\n",
    "                # count the number of customer users\n",
    "                customers_count += 1\n",
    "        \n",
    "        # compute the average trip length\n",
    "        subscribers_avg = subscribers_duration_sum / subscribers_count\n",
    "        print('average subscribers\\t' + \"%.2f\" % subscribers_avg)\n",
    "        customers_avg = customers_duration_sum / customers_count\n",
    "        print('average customers\\t' + \"%.2f\" % customers_avg)\n",
    "        \n",
    "        # return the type of user that takes longer rides on average\n",
    "        if subscribers_avg > customers_avg:\n",
    "            return 'Subscribers'\n",
    "        else:\n",
    "            return 'Customers'"
   ]
  },
  {
   "cell_type": "code",
   "execution_count": 16,
   "metadata": {},
   "outputs": [
    {
     "name": "stdout",
     "output_type": "stream",
     "text": [
      "average subscribers\t13.68\n",
      "average customers\t32.78\n",
      "for NYC, Customers takes longer rides on average\n"
     ]
    }
   ],
   "source": [
    "## Use this and additional cells to answer Question 4c. If you have    ##\n",
    "## not done so yet, consider revising some of your previous code to    ##\n",
    "## make use of functions for reusability.                              ##\n",
    "##                                                                     ##\n",
    "## TIP: For the Bay Area example data, you should find the average     ##\n",
    "## Subscriber trip duration to be 9.5 minutes and the average Customer ##\n",
    "## trip duration to be 54.6 minutes. Do the other cities have this     ##\n",
    "## level of difference?                                                ##\n",
    "\n",
    "NYC_file = './data/NYC-2016-Summary.csv'\n",
    "\n",
    "# store the city name in a variable\n",
    "city = NYC_file.split('-')[0].split('/')[-1]\n",
    "\n",
    "# call the helper function to find which type of user takes longer rides on average.\n",
    "print('for {}, {} takes longer rides on average'.format(city , avg_user_type(NYC_file)))\n"
   ]
  },
  {
   "cell_type": "markdown",
   "metadata": {},
   "source": [
    "<a id='visualizations'></a>\n",
    "### Visualizations\n",
    "\n",
    "The last set of values that you computed should have pulled up an interesting result. While the mean trip time for Subscribers is well under 30 minutes, the mean trip time for Customers is actually _above_ 30 minutes! It will be interesting for us to look at how the trip times are distributed. In order to do this, a new library will be introduced here, `matplotlib`. Run the cell below to load the library and to generate an example plot."
   ]
  },
  {
   "cell_type": "code",
   "execution_count": 17,
   "metadata": {},
   "outputs": [
    {
     "data": {
      "image/png": "[encoded data removed]",
      "text/plain": [
       "<matplotlib.figure.Figure at 0x7f20f402dac8>"
      ]
     },
     "metadata": {
      "needs_background": "light"
     },
     "output_type": "display_data"
    }
   ],
   "source": [
    "# load library\n",
    "import matplotlib.pyplot as plt\n",
    "\n",
    "# this is a 'magic word' that allows for plots to be displayed\n",
    "# inline with the notebook. If you want to know more, see:\n",
    "# http://ipython.readthedocs.io/en/stable/interactive/magics.html\n",
    "%matplotlib inline \n",
    "\n",
    "# example histogram, data taken from bay area sample\n",
    "data = [ 7.65,  8.92,  7.42,  5.50, 16.17,  4.20,  8.98,  9.62, 11.48, 14.33,\n",
    "        19.02, 21.53,  3.90,  7.97,  2.62,  2.67,  3.08, 14.40, 12.90,  7.83,\n",
    "        25.12,  8.30,  4.93, 12.43, 10.60,  6.17, 10.88,  4.78, 15.15,  3.53,\n",
    "         9.43, 13.32, 11.72,  9.85,  5.22, 15.10,  3.95,  3.17,  8.78,  1.88,\n",
    "         4.55, 12.68, 12.38,  9.78,  7.63,  6.45, 17.38, 11.90, 11.52,  8.63,]\n",
    "plt.hist(data)\n",
    "plt.title('Distribution of Trip Durations')\n",
    "plt.xlabel('Duration (m)')\n",
    "plt.show()"
   ]
  },
  {
   "cell_type": "markdown",
   "metadata": {},
   "source": [
    "In the above cell, we collected fifty trip times in a list, and passed this list as the first argument to the `.hist()` function. This function performs the computations and creates plotting objects for generating a histogram, but the plot is actually not rendered until the `.show()` function is executed. The `.title()` and `.xlabel()` functions provide some labeling for plot context.\n",
    "\n",
    "You will now use these functions to create a histogram of the trip times for the city you selected in question 4c. Don't separate the Subscribers and Customers for now: just collect all of the trip times and plot them."
   ]
  },
  {
   "cell_type": "code",
   "execution_count": 33,
   "metadata": {},
   "outputs": [
    {
     "data": {
      "image/png": "[encoded data removed]",
      "text/plain": [
       "<matplotlib.figure.Figure at 0x7f20cbbcbe48>"
      ]
     },
     "metadata": {
      "needs_background": "light"
     },
     "output_type": "display_data"
    }
   ],
   "source": [
    "## Use this and additional cells to collect all of the trip times as a list ##\n",
    "## and then use pyplot functions to generate a histogram of trip times.     ##\n",
    "\n",
    "with open(NYC_file, 'r') as file:\n",
    "        # set up csv reader object\n",
    "        reader = csv.DictReader(file)\n",
    "        \n",
    "        # initilaize a list to hold trips time duration \n",
    "        trip_times = []\n",
    "        \n",
    "        for row in reader:\n",
    "            # add individule trip duration to the list\n",
    "            trip_times.append(float(row['duration']))\n",
    "\n",
    "#create the histogram \n",
    "plt.hist(trip_times)\n",
    "plt.title('Distribution of Trip Durations')\n",
    "plt.xlabel('Duration (m)')\n",
    "plt.show()"
   ]
  },
  {
   "cell_type": "markdown",
   "metadata": {},
   "source": [
    "If you followed the use of the `.hist()` and `.show()` functions exactly like in the example, you're probably looking at a plot that's completely unexpected. The plot consists of one extremely tall bar on the left, maybe a very short second bar, and a whole lot of empty space in the center and right. Take a look at the duration values on the x-axis. This suggests that there are some highly infrequent outliers in the data. Instead of reprocessing the data, you will use additional parameters with the `.hist()` function to limit the range of data that is plotted. Documentation for the function can be found [[here]](https://matplotlib.org/devdocs/api/_as_gen/matplotlib.pyplot.hist.html#matplotlib.pyplot.hist).\n",
    "\n",
    "**Question 5**: Use the parameters of the `.hist()` function to plot the distribution of trip times for the Subscribers in your selected city. Do the same thing for only the Customers. Add limits to the plots so that only trips of duration less than 75 minutes are plotted. As a bonus, set the plots up so that bars are in five-minute wide intervals. For each group, where is the peak of each distribution? How would you describe the shape of each distribution?\n",
    "\n",
    "**Answer**:\n",
    "1. For Subscribers histogram: the peak is approximately at 1350 | Distribution Shape: Right-skewed\n",
    "2. For Customers histogram: the peak is approximately at 75 | Distribution Shape:  Right-skewed"
   ]
  },
  {
   "cell_type": "code",
   "execution_count": 40,
   "metadata": {},
   "outputs": [
    {
     "data": {
      "image/png": "[encoded data removed]",
      "text/plain": [
       "<matplotlib.figure.Figure at 0x7f20d15a4c88>"
      ]
     },
     "metadata": {
      "needs_background": "light"
     },
     "output_type": "display_data"
    },
    {
     "data": {
      "image/png": "[encoded data removed]",
      "text/plain": [
       "<matplotlib.figure.Figure at 0x7f20cce6e400>"
      ]
     },
     "metadata": {
      "needs_background": "light"
     },
     "output_type": "display_data"
    }
   ],
   "source": [
    "## Use this and additional cells to answer Question 5. ##\n",
    "## limits to the plots so that only trips of duration less than 75 minutes are plotted\n",
    "\n",
    "with open(NYC_file, 'r') as file:\n",
    "        # set up csv reader object\n",
    "        reader = csv.DictReader(file)\n",
    "        \n",
    "        # initilaize lists to hold subscribers and customers trips durations\n",
    "        subscribers_trips = []\n",
    "        customers_trips = []\n",
    "\n",
    "        for row in reader:\n",
    "            # add individule trip duration to the subscribers and customers trips list\n",
    "            if row['user_type'] == 'Subscriber':\n",
    "                subscribers_trips.append(float(row['duration']))\n",
    "            else: \n",
    "                customers_trips.append(float(row['duration']))\n",
    "\n",
    "                \n",
    "# create a list of five-minute wide intervals                    \n",
    "intervals = [ 0,  5, 10, 15, 20, 25, 30, 35, 40, 45, 50, 55, 60, 65, 70]\n",
    "\n",
    "#create Subscribers Trip histogram with specified range and bins\n",
    "plt.hist(subscribers_trips , bins = intervals , range=(0, 75))\n",
    "plt.title('Distribution of Subscribers Trip Durations for {}'.format(city))\n",
    "plt.xlabel('Duration (m)')\n",
    "plt.show()\n",
    "\n",
    "#create Customers Trip histogram with specified range and bins\n",
    "plt.hist(customers_trips , bins = intervals , range=(0, 75))\n",
    "plt.title('Distribution of Customers Trip Durations for {}'.format(city))\n",
    "plt.xlabel('Duration (m)')\n",
    "plt.show()"
   ]
  },
  {
   "cell_type": "markdown",
   "metadata": {
    "collapsed": true
   },
   "source": [
    "<a id='eda_continued'></a>\n",
    "## Performing Your Own Analysis\n",
    "\n",
    "So far, you've performed an initial exploration into the data available. You have compared the relative volume of trips made between three U.S. cities and the ratio of trips made by Subscribers and Customers. For one of these cities, you have investigated differences between Subscribers and Customers in terms of how long a typical trip lasts. Now it is your turn to continue the exploration in a direction that you choose. Here are a few suggestions for questions to explore:\n",
    "\n",
    "- How does ridership differ by month or season? Which month / season has the highest ridership? Does the ratio of Subscriber trips to Customer trips change depending on the month or season?\n",
    "- Is the pattern of ridership different on the weekends versus weekdays? On what days are Subscribers most likely to use the system? What about Customers? Does the average duration of rides change depending on the day of the week?\n",
    "- During what time of day is the system used the most? Is there a difference in usage patterns for Subscribers and Customers?\n",
    "\n",
    "If any of the questions you posed in your answer to question 1 align with the bullet points above, this is a good opportunity to investigate one of them. As part of your investigation, you will need to create a visualization. If you want to create something other than a histogram, then you might want to consult the [Pyplot documentation](https://matplotlib.org/devdocs/api/pyplot_summary.html). In particular, if you are plotting values across a categorical variable (e.g. city, user type), a bar chart will be useful. The [documentation page for `.bar()`](https://matplotlib.org/devdocs/api/_as_gen/matplotlib.pyplot.bar.html#matplotlib.pyplot.bar) includes links at the bottom of the page with examples for you to build off of for your own use.\n",
    "\n",
    "**Question 6**: Continue the investigation by exploring another question that could be answered by the data available. Document the question you want to explore below. Your investigation should involve at least two variables and should compare at least two groups. You should also use at least one visualization as part of your explorations.\n",
    "\n",
    "**Answer**: The question I chose to explore is (Is the pattern of ridership different on the weekends versus weekdays? On what days are Subscribers most likely to use the system? What about Customers? Does the average duration of rides change depending on the day of the week?)\n",
    "And the answer to that question is :\n",
    "1. Approximately the differance beteen the weekends and weekdays trips proportion is almost the same for all three cites in which:\n",
    "\n",
    "**Washington:** Weekends Trips Proportion: 25.82% | Weekdays Trips Proportion: 74.18%\n",
    "\n",
    "**NYC:** Weekends Trips Proportion: 23.38% | Weekdays Trips Proportion: 76.62%\n",
    "\n",
    "**Chicago:** Weekends Trips Proportion: 27.15% | Weekdays Trips Proportion: 72.85%\n",
    "\n",
    "2. As for the days of the week where Subscribers and Customers are most likely to use the system:\n",
    "\n",
    "**Chicago:** Subscribers mostly use the system on Tuesday | Customers mostly use the system on Sunday\n",
    "\n",
    "**NYC:** Subscribers mostly use the system on Wednesday | Customers mostly use the system on Saturday\n",
    "\n",
    "**Washington:** Subscribers mostly use the system on Wednesday | Customers mostly use the system on Saturday\n",
    "\n",
    "3. There is a slight variation in the rides average duration depending on the day of the week for each city as follows:\n",
    "\n",
    "        {'Chicago': {'Friday': '15.58',\n",
    "             'Monday': '16.12',\n",
    "             'Saturday': '20.63',\n",
    "             'Sunday': '21.38',\n",
    "             'Thursday': '13.93',\n",
    "             'Tuesday': '14.30',\n",
    "             'Wednesday': '14.46'},\n",
    "         'NYC': {'Friday': '16.02',\n",
    "             'Monday': '15.08',\n",
    "             'Saturday': '18.80',\n",
    "             'Sunday': '18.79',\n",
    "             'Thursday': '14.55',\n",
    "             'Tuesday': '14.30',\n",
    "             'Wednesday': '14.64'},\n",
    "         'Washington': {'Friday': '17.93',\n",
    "            'Monday': '17.56',\n",
    "            'Saturday': '24.81',\n",
    "            'Sunday': '23.97',\n",
    "            'Thursday': '16.69',\n",
    "            'Tuesday': '16.69',\n",
    "            'Wednesday': '16.29'}}\n"
   ]
  },
  {
   "cell_type": "code",
   "execution_count": 41,
   "metadata": {},
   "outputs": [],
   "source": [
    "## Use this and additional cells to continue to explore the dataset. ##\n",
    "## Once you have performed your exploration, document your findings  ##\n",
    "## in the Markdown cell above.                                       ##\n",
    "def weekends_vs_weekdays_trips(filename):\n",
    "    \"\"\"\n",
    "    This function reads in a file with trip data and counts the weekend and \n",
    "    weekdays trips.\n",
    "    \"\"\"\n",
    "    with open(filename, 'r') as f_in:\n",
    "        # set up csv reader object\n",
    "        reader = csv.DictReader(f_in)\n",
    "        \n",
    "        # initilaize counter variables\n",
    "        weekends_count = 0\n",
    "        weekdays_count = 0\n",
    "\n",
    "        for row in reader:\n",
    "            # count the number of weekend trips\n",
    "            if row['day_of_week'] in ['Saturday' , 'Sunday']:\n",
    "                weekends_count += 1\n",
    "            # count the number of weekday trips\n",
    "            else: \n",
    "                weekdays_count += 1\n",
    "        \n",
    "    return weekends_count , weekdays_count "
   ]
  },
  {
   "cell_type": "code",
   "execution_count": 42,
   "metadata": {},
   "outputs": [
    {
     "name": "stdout",
     "output_type": "stream",
     "text": [
      "City: NYC\n",
      "Weekends Trips: 64705\n",
      "Weekdays Trips: 212093\n",
      "Weekends Trips Proportion: 23.38%\n",
      "Weekdays Trips Proportion: 76.62%\n",
      "\n",
      "City: Washington\n",
      "Weekends Trips: 17127\n",
      "Weekdays Trips: 49199\n",
      "Weekends Trips Proportion: 25.82%\n",
      "Weekdays Trips Proportion: 74.18%\n",
      "\n",
      "City: Chicago\n",
      "Weekends Trips: 19581\n",
      "Weekdays Trips: 52550\n",
      "Weekends Trips Proportion: 27.15%\n",
      "Weekdays Trips Proportion: 72.85%\n",
      "\n"
     ]
    }
   ],
   "source": [
    "# inizilaize dictionaries to hold the weekend and weekdays trips counts \n",
    "weekends_trips = {}\n",
    "weekdays_trips = {}\n",
    "\n",
    "for summary_file in summary_files:\n",
    "    # store the city name in a variable\n",
    "    city = summary_file.split('-')[0].split('/')[-1] \n",
    "  \n",
    "    # call the helper function to get the weekend and weekdays trips\n",
    "    weekends_count , weekdays_count = weekends_vs_weekdays_trips(summary_file)\n",
    "    \n",
    "    # add the weekend and weekdays trips counts to the list for later use\n",
    "    weekends_trips[city] = weekends_count\n",
    "    weekdays_trips[city] = weekdays_count\n",
    "    \n",
    "    # call the helper function to find the proportion of weekends , weekdays trips\n",
    "    weekends_trips_prop = \"%.2f\" % calculate_proportion(weekends_count , weekends_count + weekdays_count)\n",
    "    weekdays_trips_prop = \"%.2f\" % calculate_proportion(weekdays_count , weekends_count + weekdays_count)\n",
    "    \n",
    "    print(\"City: {}\\nWeekends Trips: {}\\nWeekdays Trips: {}\\nWeekends Trips Proportion: {}%\\nWeekdays Trips Proportion: {}%\\n\"\n",
    "          .format(city , weekends_count , weekdays_count , weekends_trips_prop , weekdays_trips_prop))"
   ]
  },
  {
   "cell_type": "code",
   "execution_count": 43,
   "metadata": {},
   "outputs": [
    {
     "data": {
      "image/png": "[encoded data removed]",
      "text/plain": [
       "<matplotlib.figure.Figure at 0x7f20d0e69dd8>"
      ]
     },
     "metadata": {
      "needs_background": "light"
     },
     "output_type": "display_data"
    }
   ],
   "source": [
    "## create a bar chart that demonstrates the weekend and weekdays ##\n",
    "## trips counts for each city ##\n",
    "\n",
    "import numpy as np \n",
    "\n",
    "# the x locations for the bars groups\n",
    "ind = np.arange(len(weekends_trips))\n",
    "# the width of the bars\n",
    "width = 0.35  \n",
    "\n",
    "# Create the figure \n",
    "fig, ax = plt.subplots()\n",
    "rects1 = ax.bar(ind - width/2, list(weekends_trips.values()), width,\n",
    "                color='SkyBlue', label='Weekend Trips')\n",
    "rects2 = ax.bar(ind + width/2, list(weekdays_trips.values()), width,\n",
    "                color='IndianRed', label='Weekdays Trips')\n",
    "\n",
    "ax.set_ylabel('Trips')\n",
    "ax.set_title('Weekends Vs. Weekdays Trips Count')\n",
    "ax.set_xticks(ind)\n",
    "ax.set_xticklabels(list(weekends_trips.keys()))\n",
    "ax.legend()\n",
    "\n",
    "fig.tight_layout()"
   ]
  },
  {
   "cell_type": "code",
   "execution_count": 44,
   "metadata": {},
   "outputs": [],
   "source": [
    "def find_max_day(trips_count):\n",
    "    \"\"\"\n",
    "    This function takes a dictionary of trips counts and \n",
    "    finds the day with the maximum numebr of trips\n",
    "    \"\"\"\n",
    "    max_trips = max(trips_count.values())\n",
    "        \n",
    "    for day, trips in trips_count.items(): \n",
    "        if trips == max_trips:\n",
    "            max_day = day\n",
    "            \n",
    "    return max_day"
   ]
  },
  {
   "cell_type": "code",
   "execution_count": 45,
   "metadata": {},
   "outputs": [],
   "source": [
    "def max_trips_day(filename):\n",
    "    \"\"\"\n",
    "    This function reads in a file with trip data and finds the\n",
    "    days with the maximum subscribers and customers trips\n",
    "    \"\"\"\n",
    "    with open(filename, 'r') as f_in:\n",
    "        # set up csv reader object\n",
    "        reader = csv.DictReader(f_in)\n",
    "        \n",
    "        # initilaize dictionaries to hold the trips count for each day for each user type\n",
    "        subscriber_trips_count = {}\n",
    "        customers_trips_count = {}\n",
    "\n",
    "        for row in reader:\n",
    "            # counts the Subscribers trips for each day\n",
    "            if row['user_type'] == 'Subscriber':\n",
    "                if row['day_of_week'] in subscriber_trips_count:\n",
    "                    subscriber_trips_count[row['day_of_week']] += 1\n",
    "                else:\n",
    "                    subscriber_trips_count[row['day_of_week']] = 1\n",
    "            # counts the Customers trips for each day\n",
    "            else:\n",
    "                if row['day_of_week'] in customers_trips_count:\n",
    "                    customers_trips_count[row['day_of_week']] += 1\n",
    "                else:\n",
    "                    customers_trips_count[row['day_of_week']] = 1\n",
    "\n",
    "    # call the helper function to find the day with the maximum numebr of subscribers trips\n",
    "    max_subscribers_day = find_max_day(subscriber_trips_count)\n",
    "    \n",
    "    # call the helper function to find the day with the maximum numebr of customers trips\n",
    "    max_customers_day = find_max_day(customers_trips_count)\n",
    "    \n",
    "    return max_subscribers_day , max_customers_day\n",
    "\n",
    "# print(trips_per_day(NYC_file))"
   ]
  },
  {
   "cell_type": "code",
   "execution_count": 46,
   "metadata": {},
   "outputs": [
    {
     "name": "stdout",
     "output_type": "stream",
     "text": [
      "City: NYC\n",
      "Subscribers most likely to use the system on: Wednesday\n",
      "Customers most likely to use the system on: Saturday\n",
      "\n",
      "City: Washington\n",
      "Subscribers most likely to use the system on: Wednesday\n",
      "Customers most likely to use the system on: Saturday\n",
      "\n",
      "City: Chicago\n",
      "Subscribers most likely to use the system on: Tuesday\n",
      "Customers most likely to use the system on: Sunday\n",
      "\n"
     ]
    }
   ],
   "source": [
    "# inizilaize dictionaries to hold the days with the maximum subscribers and customers trips for each city \n",
    "subscribers_days = {}\n",
    "customers_days = {}\n",
    "\n",
    "for summary_file in summary_files:\n",
    "    # store the city name in a variable\n",
    "    city = summary_file.split('-')[0].split('/')[-1] \n",
    "  \n",
    "    # call the helper function to get the days with the maximum subscribers and customers trips\n",
    "    max_subscribers_day , max_customers_day = max_trips_day(summary_file)\n",
    "    \n",
    "    # add max_subscribers_day and max_customers_day trips counts to the list for later use\n",
    "    subscribers_days[city] = max_subscribers_day\n",
    "    customers_days[city] = max_customers_day\n",
    "    \n",
    "    print(\"City: {}\\nSubscribers most likely to use the system on: {}\\nCustomers most likely to use the system on: {}\\n\"\n",
    "          .format(city , max_subscribers_day , max_customers_day))"
   ]
  },
  {
   "cell_type": "code",
   "execution_count": 47,
   "metadata": {},
   "outputs": [],
   "source": [
    "def avg_trips_per_day(filename):\n",
    "    \"\"\"\n",
    "    This function reads in a file with trip data and calculate the \n",
    "    average trip duration for each day of the week.\n",
    "    \"\"\"\n",
    "    with open(filename, 'r') as f_in:\n",
    "        # set up csv reader object\n",
    "        reader = csv.DictReader(f_in)\n",
    "        \n",
    "        # initialize a dictionary that holds the duartion sum and trips counts for each day of the week\n",
    "        trips_durations = {'Sunday':    {'trips_sum': 0, 'trip_count': 0},\n",
    "                           'Saturday':  {'trips_sum': 0, 'trip_count': 0},\n",
    "                           'Monday':    {'trips_sum': 0, 'trip_count': 0},\n",
    "                           'Tuesday':   {'trips_sum': 0, 'trip_count': 0}, \n",
    "                           'Wednesday': {'trips_sum': 0, 'trip_count': 0}, \n",
    "                           'Thursday':  {'trips_sum': 0, 'trip_count': 0},\n",
    "                           'Friday':    {'trips_sum': 0, 'trip_count': 0}}\n",
    "        \n",
    "        for row in reader:\n",
    "            # calculate the sum of trips durations for a specific day \n",
    "            trips_durations[row['day_of_week']]['trips_sum'] += float(row['duration'])\n",
    "            # count the number of trips for a specific day\n",
    "            trips_durations[row['day_of_week']]['trip_count'] += 1\n",
    "\n",
    "        # initilaize a dictionary that holds the average trip duration for each day of the week\n",
    "        avg_trips = {}\n",
    "        \n",
    "        for day in trips_durations:\n",
    "            # compute the average trip duration\n",
    "            avg_trips[day] = \"%.2f\" %(trips_durations[day]['trips_sum'] / trips_durations[day]['trip_count']) \n",
    "        \n",
    "        return avg_trips"
   ]
  },
  {
   "cell_type": "code",
   "execution_count": 48,
   "metadata": {},
   "outputs": [
    {
     "name": "stdout",
     "output_type": "stream",
     "text": [
      "{'Chicago': {'Friday': '15.58',\n",
      "             'Monday': '16.12',\n",
      "             'Saturday': '20.63',\n",
      "             'Sunday': '21.38',\n",
      "             'Thursday': '13.93',\n",
      "             'Tuesday': '14.30',\n",
      "             'Wednesday': '14.46'},\n",
      " 'NYC': {'Friday': '16.02',\n",
      "         'Monday': '15.08',\n",
      "         'Saturday': '18.80',\n",
      "         'Sunday': '18.79',\n",
      "         'Thursday': '14.55',\n",
      "         'Tuesday': '14.30',\n",
      "         'Wednesday': '14.64'},\n",
      " 'Washington': {'Friday': '17.93',\n",
      "                'Monday': '17.56',\n",
      "                'Saturday': '24.81',\n",
      "                'Sunday': '23.97',\n",
      "                'Thursday': '16.69',\n",
      "                'Tuesday': '16.69',\n",
      "                'Wednesday': '16.29'}}\n"
     ]
    }
   ],
   "source": [
    "# inizilaize a dictionary to hold the average trip duration for each day of the week for each city \n",
    "avg_trips = {}\n",
    "\n",
    "for summary_file in summary_files:\n",
    "    # store the city name in a variable\n",
    "    city = summary_file.split('-')[0].split('/')[-1] \n",
    "  \n",
    "    # call the helper function to get the average trip duration for each day of the week \n",
    "    avg_trips[city] = avg_trips_per_day(summary_file)\n",
    "\n",
    "pprint(avg_trips)"
   ]
  },
  {
   "cell_type": "markdown",
   "metadata": {},
   "source": [
    "<a id='conclusions'></a>\n",
    "## Conclusions\n",
    "\n",
    "Congratulations on completing the project! This is only a sampling of the data analysis process: from generating questions, wrangling the data, and to exploring the data. Normally, at this point in the data analysis process, you might want to draw conclusions about the data by performing a statistical test or fitting the data to a model for making predictions. There are also a lot of potential analyses that could be performed on the data which are not possible with only the data provided. For example, detailed location data has not been investigated. Where are the most commonly used docks? What are the most common routes? As another example, weather has potential to have a large impact on daily ridership. How much is ridership impacted when there is rain or snow? Are subscribers or customers affected more by changes in weather?\n",
    "\n",
    "**Question 7**: Putting the bike share data aside, think of a topic or field of interest where you would like to be able to apply the techniques of data science. What would you like to be able to learn from your chosen subject?\n",
    "\n",
    "**Answer**: I believe these data analysis techniques would be extremely useful to be applied on the data driven from colleges and schools to determine which  courses are more popular among students and based on the students' performance on given courses, certain messures could be considered for improving the education outcomes\n",
    "\n",
    "> **Tip**: If we want to share the results of our analysis with others, we aren't limited to giving them a copy of the jupyter Notebook (.ipynb) file. We can also export the Notebook output in a form that can be opened even for those without Python installed. From the **File** menu in the upper left, go to the **Download as** submenu. You can then choose a different format that can be viewed more generally, such as HTML (.html) or\n",
    "PDF (.pdf). You may need additional packages or software to perform these exports.\n",
    "\n",
    "> If you are working on this project via the Project Notebook page in the classroom, you can also submit this project directly from the workspace. **Before you do that**, you should save an HTML copy of the completed project to the workspace by running the code cell below. If it worked correctly, the output code should be a 0, and if you click on the jupyter icon in the upper left, you should see your .html document in the workspace directory. Alternatively, you can download the .html copy of your report following the steps in the previous paragraph, then _upload_ the report to the directory (by clicking the jupyter icon).\n",
    "\n",
    "> Either way, once you've gotten the .html report in your workspace, you can complete your submission by clicking on the \"Submit Project\" button to the lower-right hand side of the workspace."
   ]
  },
  {
   "cell_type": "code",
   "execution_count": 49,
   "metadata": {},
   "outputs": [
    {
     "data": {
      "text/plain": [
       "0"
      ]
     },
     "execution_count": 49,
     "metadata": {},
     "output_type": "execute_result"
    }
   ],
   "source": [
    "from subprocess import call\n",
    "call(['python', '-m', 'nbconvert', 'Bike_Share_Analysis.ipynb'])"
   ]
  },
  {
   "cell_type": "markdown",
   "metadata": {},
   "source": [
    "## Refrences\n",
    "\n",
    "- https://stackoverflow.com/questions/455612/limiting-floats-to-two-decimal-points\n",
    "- https://stackoverflow.com/questions/9847213/how-do-i-get-the-day-of-week-given-a-date-in-python\n",
    "- https://stackoverflow.com/questions/47963339/setting-the-time-interval-and-adding-limits-to-the-histograms-in-matplotlib \n",
    "- https://asq.org/quality-resources/histogram\n",
    "- https://matplotlib.org/devdocs/gallery/statistics/barchart_demo.html?highlight=bar%20chart\n",
    "- https://stackoverflow.com/questions/16819222/how-to-return-dictionary-keys-as-a-list-in-python\n",
    "- https://stackoverflow.com/questions/7002429/how-can-i-extract-all-values-from-a-dictionary-in-python\n",
    "- https://www.w3schools.com/python/python_dictionaries.asp"
   ]
  }
 ],
 "metadata": {
  "anaconda-cloud": {},
  "kernelspec": {
   "display_name": "Python 3",
   "language": "python",
   "name": "python3"
  },
  "language_info": {
   "codemirror_mode": {
    "name": "ipython",
    "version": 3
   },
   "file_extension": ".py",
   "mimetype": "text/x-python",
   "name": "python",
   "nbconvert_exporter": "python",
   "pygments_lexer": "ipython3",
   "version": "3.6.3"
  }
 },
 "nbformat": 4,
 "nbformat_minor": 1
}
